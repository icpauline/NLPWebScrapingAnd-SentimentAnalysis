{
 "cells": [
  {
   "cell_type": "markdown",
   "id": "872d0c28",
   "metadata": {},
   "source": [
    "# To Evaluate Sentiment Analysis result using trained model(from pickle - accuracy 92%) "
   ]
  },
  {
   "cell_type": "code",
   "execution_count": 3,
   "id": "a617f60b",
   "metadata": {},
   "outputs": [],
   "source": [
    "import pandas as pd"
   ]
  },
  {
   "cell_type": "code",
   "execution_count": 5,
   "id": "ef654c61",
   "metadata": {},
   "outputs": [],
   "source": [
    "data = pd.read_csv('AmazonSentiment.csv')"
   ]
  },
  {
   "cell_type": "code",
   "execution_count": 6,
   "id": "ef8a53c2",
   "metadata": {},
   "outputs": [
    {
     "data": {
      "text/html": [
       "<div>\n",
       "<style scoped>\n",
       "    .dataframe tbody tr th:only-of-type {\n",
       "        vertical-align: middle;\n",
       "    }\n",
       "\n",
       "    .dataframe tbody tr th {\n",
       "        vertical-align: top;\n",
       "    }\n",
       "\n",
       "    .dataframe thead th {\n",
       "        text-align: right;\n",
       "    }\n",
       "</style>\n",
       "<table border=\"1\" class=\"dataframe\">\n",
       "  <thead>\n",
       "    <tr style=\"text-align: right;\">\n",
       "      <th></th>\n",
       "      <th>Unnamed: 0</th>\n",
       "      <th>reviews</th>\n",
       "      <th>scores</th>\n",
       "      <th>compound</th>\n",
       "      <th>comp_score</th>\n",
       "    </tr>\n",
       "  </thead>\n",
       "  <tbody>\n",
       "    <tr>\n",
       "      <th>0</th>\n",
       "      <td>0</td>\n",
       "      <td>Looks niceEdit: after 3 months1 dial of the w...</td>\n",
       "      <td>{'neg': 0.153, 'neu': 0.72, 'pos': 0.127, 'com...</td>\n",
       "      <td>-0.1154</td>\n",
       "      <td>neg</td>\n",
       "    </tr>\n",
       "    <tr>\n",
       "      <th>1</th>\n",
       "      <td>1</td>\n",
       "      <td>the size of dial is very small,the coin is th...</td>\n",
       "      <td>{'neg': 0.0, 'neu': 0.816, 'pos': 0.184, 'comp...</td>\n",
       "      <td>0.5789</td>\n",
       "      <td>pos</td>\n",
       "    </tr>\n",
       "    <tr>\n",
       "      <th>2</th>\n",
       "      <td>2</td>\n",
       "      <td>Too good just go for it</td>\n",
       "      <td>{'neg': 0.0, 'neu': 0.633, 'pos': 0.367, 'comp...</td>\n",
       "      <td>0.4404</td>\n",
       "      <td>pos</td>\n",
       "    </tr>\n",
       "    <tr>\n",
       "      <th>3</th>\n",
       "      <td>3</td>\n",
       "      <td>Watch tik hai par lock bilkul aacha nahi dikh...</td>\n",
       "      <td>{'neg': 0.0, 'neu': 1.0, 'pos': 0.0, 'compound...</td>\n",
       "      <td>0.0000</td>\n",
       "      <td>pos</td>\n",
       "    </tr>\n",
       "    <tr>\n",
       "      <th>4</th>\n",
       "      <td>4</td>\n",
       "      <td>Very nice look and worth the money</td>\n",
       "      <td>{'neg': 0.0, 'neu': 0.5, 'pos': 0.5, 'compound...</td>\n",
       "      <td>0.6115</td>\n",
       "      <td>pos</td>\n",
       "    </tr>\n",
       "  </tbody>\n",
       "</table>\n",
       "</div>"
      ],
      "text/plain": [
       "   Unnamed: 0                                            reviews  \\\n",
       "0           0   Looks niceEdit: after 3 months1 dial of the w...   \n",
       "1           1   the size of dial is very small,the coin is th...   \n",
       "2           2                           Too good just go for it    \n",
       "3           3   Watch tik hai par lock bilkul aacha nahi dikh...   \n",
       "4           4                Very nice look and worth the money    \n",
       "\n",
       "                                              scores  compound comp_score  \n",
       "0  {'neg': 0.153, 'neu': 0.72, 'pos': 0.127, 'com...   -0.1154        neg  \n",
       "1  {'neg': 0.0, 'neu': 0.816, 'pos': 0.184, 'comp...    0.5789        pos  \n",
       "2  {'neg': 0.0, 'neu': 0.633, 'pos': 0.367, 'comp...    0.4404        pos  \n",
       "3  {'neg': 0.0, 'neu': 1.0, 'pos': 0.0, 'compound...    0.0000        pos  \n",
       "4  {'neg': 0.0, 'neu': 0.5, 'pos': 0.5, 'compound...    0.6115        pos  "
      ]
     },
     "execution_count": 6,
     "metadata": {},
     "output_type": "execute_result"
    }
   ],
   "source": [
    "data.head()"
   ]
  },
  {
   "cell_type": "code",
   "execution_count": 8,
   "id": "1bc538ec",
   "metadata": {},
   "outputs": [],
   "source": [
    "data.drop('Unnamed: 0' , inplace = True, axis = 1)"
   ]
  },
  {
   "cell_type": "code",
   "execution_count": 9,
   "id": "33b77092",
   "metadata": {},
   "outputs": [
    {
     "data": {
      "text/html": [
       "<div>\n",
       "<style scoped>\n",
       "    .dataframe tbody tr th:only-of-type {\n",
       "        vertical-align: middle;\n",
       "    }\n",
       "\n",
       "    .dataframe tbody tr th {\n",
       "        vertical-align: top;\n",
       "    }\n",
       "\n",
       "    .dataframe thead th {\n",
       "        text-align: right;\n",
       "    }\n",
       "</style>\n",
       "<table border=\"1\" class=\"dataframe\">\n",
       "  <thead>\n",
       "    <tr style=\"text-align: right;\">\n",
       "      <th></th>\n",
       "      <th>reviews</th>\n",
       "      <th>scores</th>\n",
       "      <th>compound</th>\n",
       "      <th>comp_score</th>\n",
       "    </tr>\n",
       "  </thead>\n",
       "  <tbody>\n",
       "    <tr>\n",
       "      <th>0</th>\n",
       "      <td>Looks niceEdit: after 3 months1 dial of the w...</td>\n",
       "      <td>{'neg': 0.153, 'neu': 0.72, 'pos': 0.127, 'com...</td>\n",
       "      <td>-0.1154</td>\n",
       "      <td>neg</td>\n",
       "    </tr>\n",
       "    <tr>\n",
       "      <th>1</th>\n",
       "      <td>the size of dial is very small,the coin is th...</td>\n",
       "      <td>{'neg': 0.0, 'neu': 0.816, 'pos': 0.184, 'comp...</td>\n",
       "      <td>0.5789</td>\n",
       "      <td>pos</td>\n",
       "    </tr>\n",
       "    <tr>\n",
       "      <th>2</th>\n",
       "      <td>Too good just go for it</td>\n",
       "      <td>{'neg': 0.0, 'neu': 0.633, 'pos': 0.367, 'comp...</td>\n",
       "      <td>0.4404</td>\n",
       "      <td>pos</td>\n",
       "    </tr>\n",
       "    <tr>\n",
       "      <th>3</th>\n",
       "      <td>Watch tik hai par lock bilkul aacha nahi dikh...</td>\n",
       "      <td>{'neg': 0.0, 'neu': 1.0, 'pos': 0.0, 'compound...</td>\n",
       "      <td>0.0000</td>\n",
       "      <td>pos</td>\n",
       "    </tr>\n",
       "    <tr>\n",
       "      <th>4</th>\n",
       "      <td>Very nice look and worth the money</td>\n",
       "      <td>{'neg': 0.0, 'neu': 0.5, 'pos': 0.5, 'compound...</td>\n",
       "      <td>0.6115</td>\n",
       "      <td>pos</td>\n",
       "    </tr>\n",
       "  </tbody>\n",
       "</table>\n",
       "</div>"
      ],
      "text/plain": [
       "                                             reviews  \\\n",
       "0   Looks niceEdit: after 3 months1 dial of the w...   \n",
       "1   the size of dial is very small,the coin is th...   \n",
       "2                           Too good just go for it    \n",
       "3   Watch tik hai par lock bilkul aacha nahi dikh...   \n",
       "4                Very nice look and worth the money    \n",
       "\n",
       "                                              scores  compound comp_score  \n",
       "0  {'neg': 0.153, 'neu': 0.72, 'pos': 0.127, 'com...   -0.1154        neg  \n",
       "1  {'neg': 0.0, 'neu': 0.816, 'pos': 0.184, 'comp...    0.5789        pos  \n",
       "2  {'neg': 0.0, 'neu': 0.633, 'pos': 0.367, 'comp...    0.4404        pos  \n",
       "3  {'neg': 0.0, 'neu': 1.0, 'pos': 0.0, 'compound...    0.0000        pos  \n",
       "4  {'neg': 0.0, 'neu': 0.5, 'pos': 0.5, 'compound...    0.6115        pos  "
      ]
     },
     "execution_count": 9,
     "metadata": {},
     "output_type": "execute_result"
    }
   ],
   "source": [
    "data.head()"
   ]
  },
  {
   "cell_type": "code",
   "execution_count": 10,
   "id": "c5f70f20",
   "metadata": {},
   "outputs": [],
   "source": [
    "# Loading pickle"
   ]
  },
  {
   "cell_type": "code",
   "execution_count": 11,
   "id": "3f82b775",
   "metadata": {},
   "outputs": [],
   "source": [
    "import pickle\n",
    "pickled_model = pickle.load(open('lsvcmodel.pkl', 'rb'))\n"
   ]
  },
  {
   "cell_type": "code",
   "execution_count": 12,
   "id": "fb5b79d1",
   "metadata": {},
   "outputs": [],
   "source": [
    "X_test = data['reviews']"
   ]
  },
  {
   "cell_type": "code",
   "execution_count": 13,
   "id": "0c1a5606",
   "metadata": {},
   "outputs": [],
   "source": [
    "data['pred_score'] = pickled_model.predict(X_test)"
   ]
  },
  {
   "cell_type": "code",
   "execution_count": 14,
   "id": "3b63a154",
   "metadata": {},
   "outputs": [
    {
     "data": {
      "text/html": [
       "<div>\n",
       "<style scoped>\n",
       "    .dataframe tbody tr th:only-of-type {\n",
       "        vertical-align: middle;\n",
       "    }\n",
       "\n",
       "    .dataframe tbody tr th {\n",
       "        vertical-align: top;\n",
       "    }\n",
       "\n",
       "    .dataframe thead th {\n",
       "        text-align: right;\n",
       "    }\n",
       "</style>\n",
       "<table border=\"1\" class=\"dataframe\">\n",
       "  <thead>\n",
       "    <tr style=\"text-align: right;\">\n",
       "      <th></th>\n",
       "      <th>reviews</th>\n",
       "      <th>scores</th>\n",
       "      <th>compound</th>\n",
       "      <th>comp_score</th>\n",
       "      <th>pred_score</th>\n",
       "    </tr>\n",
       "  </thead>\n",
       "  <tbody>\n",
       "    <tr>\n",
       "      <th>0</th>\n",
       "      <td>Looks niceEdit: after 3 months1 dial of the w...</td>\n",
       "      <td>{'neg': 0.153, 'neu': 0.72, 'pos': 0.127, 'com...</td>\n",
       "      <td>-0.1154</td>\n",
       "      <td>neg</td>\n",
       "      <td>neg</td>\n",
       "    </tr>\n",
       "    <tr>\n",
       "      <th>1</th>\n",
       "      <td>the size of dial is very small,the coin is th...</td>\n",
       "      <td>{'neg': 0.0, 'neu': 0.816, 'pos': 0.184, 'comp...</td>\n",
       "      <td>0.5789</td>\n",
       "      <td>pos</td>\n",
       "      <td>pos</td>\n",
       "    </tr>\n",
       "    <tr>\n",
       "      <th>2</th>\n",
       "      <td>Too good just go for it</td>\n",
       "      <td>{'neg': 0.0, 'neu': 0.633, 'pos': 0.367, 'comp...</td>\n",
       "      <td>0.4404</td>\n",
       "      <td>pos</td>\n",
       "      <td>pos</td>\n",
       "    </tr>\n",
       "    <tr>\n",
       "      <th>3</th>\n",
       "      <td>Watch tik hai par lock bilkul aacha nahi dikh...</td>\n",
       "      <td>{'neg': 0.0, 'neu': 1.0, 'pos': 0.0, 'compound...</td>\n",
       "      <td>0.0000</td>\n",
       "      <td>pos</td>\n",
       "      <td>pos</td>\n",
       "    </tr>\n",
       "    <tr>\n",
       "      <th>4</th>\n",
       "      <td>Very nice look and worth the money</td>\n",
       "      <td>{'neg': 0.0, 'neu': 0.5, 'pos': 0.5, 'compound...</td>\n",
       "      <td>0.6115</td>\n",
       "      <td>pos</td>\n",
       "      <td>neg</td>\n",
       "    </tr>\n",
       "  </tbody>\n",
       "</table>\n",
       "</div>"
      ],
      "text/plain": [
       "                                             reviews  \\\n",
       "0   Looks niceEdit: after 3 months1 dial of the w...   \n",
       "1   the size of dial is very small,the coin is th...   \n",
       "2                           Too good just go for it    \n",
       "3   Watch tik hai par lock bilkul aacha nahi dikh...   \n",
       "4                Very nice look and worth the money    \n",
       "\n",
       "                                              scores  compound comp_score  \\\n",
       "0  {'neg': 0.153, 'neu': 0.72, 'pos': 0.127, 'com...   -0.1154        neg   \n",
       "1  {'neg': 0.0, 'neu': 0.816, 'pos': 0.184, 'comp...    0.5789        pos   \n",
       "2  {'neg': 0.0, 'neu': 0.633, 'pos': 0.367, 'comp...    0.4404        pos   \n",
       "3  {'neg': 0.0, 'neu': 1.0, 'pos': 0.0, 'compound...    0.0000        pos   \n",
       "4  {'neg': 0.0, 'neu': 0.5, 'pos': 0.5, 'compound...    0.6115        pos   \n",
       "\n",
       "  pred_score  \n",
       "0        neg  \n",
       "1        pos  \n",
       "2        pos  \n",
       "3        pos  \n",
       "4        neg  "
      ]
     },
     "execution_count": 14,
     "metadata": {},
     "output_type": "execute_result"
    }
   ],
   "source": [
    "data.head()"
   ]
  },
  {
   "cell_type": "code",
   "execution_count": 15,
   "id": "bfbab731",
   "metadata": {},
   "outputs": [],
   "source": [
    "from sklearn.metrics import accuracy_score , classification_report, confusion_matrix"
   ]
  },
  {
   "cell_type": "code",
   "execution_count": 17,
   "id": "7dbd98a0",
   "metadata": {},
   "outputs": [],
   "source": [
    "sent_score = data['comp_score']\n",
    "pickle_score = data['pred_score']"
   ]
  },
  {
   "cell_type": "code",
   "execution_count": 19,
   "id": "4199870b",
   "metadata": {},
   "outputs": [
    {
     "data": {
      "text/plain": [
       "array([[ 854,  590],\n",
       "       [2130, 8407]], dtype=int64)"
      ]
     },
     "execution_count": 19,
     "metadata": {},
     "output_type": "execute_result"
    }
   ],
   "source": [
    "confusion_matrix(sent_score, pickle_score)"
   ]
  },
  {
   "cell_type": "code",
   "execution_count": 20,
   "id": "4066a650",
   "metadata": {},
   "outputs": [
    {
     "name": "stdout",
     "output_type": "stream",
     "text": [
      "              precision    recall  f1-score   support\n",
      "\n",
      "         neg       0.29      0.59      0.39      1444\n",
      "         pos       0.93      0.80      0.86     10537\n",
      "\n",
      "    accuracy                           0.77     11981\n",
      "   macro avg       0.61      0.69      0.62     11981\n",
      "weighted avg       0.86      0.77      0.80     11981\n",
      "\n"
     ]
    }
   ],
   "source": [
    "print(classification_report(sent_score, pickle_score))"
   ]
  },
  {
   "cell_type": "code",
   "execution_count": 21,
   "id": "6230a30f",
   "metadata": {},
   "outputs": [
    {
     "data": {
      "text/plain": [
       "0.7729738753025623"
      ]
     },
     "execution_count": 21,
     "metadata": {},
     "output_type": "execute_result"
    }
   ],
   "source": [
    "accuracy_score(sent_score, pickle_score)"
   ]
  },
  {
   "cell_type": "code",
   "execution_count": null,
   "id": "0c029f1a",
   "metadata": {},
   "outputs": [],
   "source": []
  }
 ],
 "metadata": {
  "kernelspec": {
   "display_name": "Python 3 (ipykernel)",
   "language": "python",
   "name": "python3"
  },
  "language_info": {
   "codemirror_mode": {
    "name": "ipython",
    "version": 3
   },
   "file_extension": ".py",
   "mimetype": "text/x-python",
   "name": "python",
   "nbconvert_exporter": "python",
   "pygments_lexer": "ipython3",
   "version": "3.9.13"
  }
 },
 "nbformat": 4,
 "nbformat_minor": 5
}
